{
 "cells": [
  {
   "cell_type": "code",
   "execution_count": 50,
   "metadata": {
    "colab": {},
    "colab_type": "code",
    "id": "fV5wZQFUJ2l1",
    "scrolled": true
   },
   "outputs": [],
   "source": [
    "import tensorflow as tf\n",
    "from tensorflow.keras.models import Sequential\n",
    "from tensorflow.keras.preprocessing.image import ImageDataGenerator\n",
    "from tensorflow.keras.layers import Dense, Flatten, Conv2D, MaxPooling2D, Dropout, GlobalAveragePooling2D\n",
    "from tensorflow.keras.layers import BatchNormalization\n",
    "import os, zipfile\n",
    "import splitfolders"
   ]
  },
  {
   "cell_type": "code",
   "execution_count": 11,
   "metadata": {
    "colab": {
     "base_uri": "https://localhost:8080/",
     "height": 224
    },
    "colab_type": "code",
    "id": "8ywAqTd8N2wX",
    "outputId": "d76ddc23-7a3a-463d-c571-43c174762469"
   },
   "outputs": [
    {
     "name": "stdout",
     "output_type": "stream",
     "text": [
      "Requirement already satisfied: split-folders in c:\\users\\akma l\\appdata\\roaming\\python\\python37\\site-packages (0.4.2)\n"
     ]
    },
    {
     "name": "stderr",
     "output_type": "stream",
     "text": [
      "WARNING: pip is being invoked by an old script wrapper. This will fail in a future version of pip.\n",
      "Please see https://github.com/pypa/pip/issues/5599 for advice on fixing the underlying issue.\n",
      "To avoid this problem you can invoke Python with '-m pip' instead of running pip directly.\n",
      "WARNING: You are using pip version 20.0.2; however, version 20.2.2 is available.\n",
      "You should consider upgrading via the 'C:\\ProgramData\\Anaconda3\\python.exe -m pip install --upgrade pip' command.\n"
     ]
    }
   ],
   "source": [
    "!pip install split-folders --user"
   ]
  },
  {
   "cell_type": "markdown",
   "metadata": {},
   "source": [
    "# Data Preprocessing (Split data)"
   ]
  },
  {
   "cell_type": "code",
   "execution_count": 147,
   "metadata": {
    "colab": {
     "base_uri": "https://localhost:8080/",
     "height": 1000
    },
    "colab_type": "code",
    "id": "RncUAtpso1Om",
    "outputId": "06c562ec-6a90-4ab7-c562-c793cb2f3eb2"
   },
   "outputs": [
    {
     "name": "stderr",
     "output_type": "stream",
     "text": [
      "Copying files: 240 files [00:00, 597.76 files/s]\n"
     ]
    }
   ],
   "source": [
    "\n",
    "splitfolders.ratio('E:/Learn/Image Recognition/rice_leaf_diseases2', output=\"E:/Learn/RICE LEAF DATASET/output5(HD)\", seed=1337, ratio=(.75,.25)) "
   ]
  },
  {
   "cell_type": "markdown",
   "metadata": {},
   "source": [
    "# Deklarsi direktori data"
   ]
  },
  {
   "cell_type": "code",
   "execution_count": 45,
   "metadata": {
    "colab": {
     "base_uri": "https://localhost:8080/",
     "height": 34
    },
    "colab_type": "code",
    "id": "PGY6qDWilzBw",
    "outputId": "edbb22d5-5fe5-4621-abdd-364fa2ac5bd4"
   },
   "outputs": [
    {
     "data": {
      "text/plain": [
       "['Sehat', 'Tidak Sehat']"
      ]
     },
     "execution_count": 45,
     "metadata": {},
     "output_type": "execute_result"
    }
   ],
   "source": [
    "train_dir = 'E:/Learn/RICE LEAF DATASET/output4(5banding5)/train' \n",
    "test_dir = 'E:/Learn/RICE LEAF DATASET/output4(5banding5)/val'\n",
    "os.listdir(train_dir)"
   ]
  },
  {
   "cell_type": "markdown",
   "metadata": {},
   "source": [
    "# Data generator"
   ]
  },
  {
   "cell_type": "code",
   "execution_count": 46,
   "metadata": {
    "colab": {},
    "colab_type": "code",
    "id": "i2Wv2JN9PLVe"
   },
   "outputs": [],
   "source": [
    "train_datagen = ImageDataGenerator(\n",
    "    rescale=1./250,\n",
    "    rotation_range=20,\n",
    "    horizontal_flip=True,\n",
    "    shear_range = 0.2,\n",
    "    fill_mode = 'nearest',\n",
    "    zoom_range=.1)\n",
    "test_datagen = ImageDataGenerator(\n",
    "    rescale=1./250,\n",
    "    rotation_range=20,\n",
    "    horizontal_flip=True,\n",
    "    shear_range = 0.2,\n",
    "    fill_mode = 'nearest',\n",
    "    zoom_range=.1)"
   ]
  },
  {
   "cell_type": "markdown",
   "metadata": {},
   "source": [
    "# Penentuan parameter batch dan kelas"
   ]
  },
  {
   "cell_type": "code",
   "execution_count": 47,
   "metadata": {
    "colab": {
     "base_uri": "https://localhost:8080/",
     "height": 51
    },
    "colab_type": "code",
    "id": "Et7NjyhyqGfl",
    "outputId": "f92c6192-0628-4ffc-85eb-59ccd51a0d13"
   },
   "outputs": [
    {
     "name": "stdout",
     "output_type": "stream",
     "text": [
      "Found 8000 images belonging to 2 classes.\n",
      "Found 8000 images belonging to 2 classes.\n"
     ]
    }
   ],
   "source": [
    "# direktori data latih\n",
    "train_generator = train_datagen.flow_from_directory(train_dir, target_size=(64, 64), batch_size=100, class_mode='categorical', shuffle=True) #'categorical'\n",
    "# direktori data validasi\n",
    "validation_generator = test_datagen.flow_from_directory(test_dir, target_size=(64, 64), batch_size=100, class_mode='categorical', shuffle=True) #shuffle=True"
   ]
  },
  {
   "cell_type": "markdown",
   "metadata": {},
   "source": [
    "# Arsitektur AlexNET"
   ]
  },
  {
   "cell_type": "code",
   "execution_count": 200,
   "metadata": {
    "colab": {},
    "colab_type": "code",
    "id": "jGmMoGBo2AIO"
   },
   "outputs": [],
   "source": [
    "model = Sequential()\n",
    "model.add(Conv2D(filters=96, kernel_size=11, strides=4, activation = 'relu', padding='same', input_shape = (64,64,3)))\n",
    "model.add(MaxPooling2D(pool_size=3, strides=2))\n",
    "model.add(Conv2D(filters=256, kernel_size=5, padding='same', activation='relu'))\n",
    "model.add(MaxPooling2D(pool_size=3, strides=2))\n",
    "model.add(Conv2D(filters=384, kernel_size=3, padding='same', activation='relu'))\n",
    "model.add(Conv2D(filters=384, kernel_size=3, padding='same', activation='relu'))\n",
    "model.add(Conv2D(filters=256, kernel_size=3, padding='same', activation='relu'))\n",
    "model.add(MaxPooling2D(pool_size=3, strides=2))\n",
    "model.add(Flatten())\n",
    "model.add(Dense(4096, activation='relu'))\n",
    "model.add(Dropout(0.5))\n",
    "model.add(Dense(4096, activation='relu'))\n",
    "model.add(Dropout(0.5))\n",
    "model.add(Dense(2, activation='softmax')) #'softmax'"
   ]
  },
  {
   "cell_type": "markdown",
   "metadata": {},
   "source": [
    "# Arsitektur VGG"
   ]
  },
  {
   "cell_type": "code",
   "execution_count": 67,
   "metadata": {},
   "outputs": [],
   "source": [
    "model = Sequential()\n",
    "model.add(Conv2D(input_shape=(64,64,3),filters=64,kernel_size=(3,3),padding=\"same\", activation=\"relu\"))\n",
    "model.add(Conv2D(filters=64,kernel_size=(3,3),padding=\"same\", activation=\"relu\"))\n",
    "model.add(MaxPooling2D(pool_size=(2,2),strides=(2,2)))\n",
    "model.add(Conv2D(filters=128, kernel_size=(3,3), padding=\"same\", activation=\"relu\"))\n",
    "model.add(Conv2D(filters=128, kernel_size=(3,3), padding=\"same\", activation=\"relu\"))\n",
    "model.add(MaxPooling2D(pool_size=(2,2),strides=(2,2)))\n",
    "model.add(Conv2D(filters=256, kernel_size=(3,3), padding=\"same\", activation=\"relu\"))\n",
    "model.add(Conv2D(filters=256, kernel_size=(3,3), padding=\"same\", activation=\"relu\"))\n",
    "model.add(Conv2D(filters=256, kernel_size=(3,3), padding=\"same\", activation=\"relu\"))\n",
    "model.add(MaxPooling2D(pool_size=(2,2),strides=(2,2)))\n",
    "model.add(Conv2D(filters=512, kernel_size=(3,3), padding=\"same\", activation=\"relu\"))\n",
    "model.add(Conv2D(filters=512, kernel_size=(3,3), padding=\"same\", activation=\"relu\"))\n",
    "model.add(Conv2D(filters=512, kernel_size=(3,3), padding=\"same\", activation=\"relu\"))\n",
    "model.add(MaxPooling2D(pool_size=(2,2),strides=(2,2)))\n",
    "model.add(Conv2D(filters=512, kernel_size=(3,3), padding=\"same\", activation=\"relu\"))\n",
    "model.add(Conv2D(filters=512, kernel_size=(3,3), padding=\"same\", activation=\"relu\"))\n",
    "model.add(Conv2D(filters=512, kernel_size=(3,3), padding=\"same\", activation=\"relu\"))\n",
    "model.add(MaxPooling2D(pool_size=(2,2),strides=(2,2)))\n",
    "model.add(Flatten())\n",
    "model.add(Dense(units=4096,activation=\"relu\"))\n",
    "model.add(Dense(units=4096,activation=\"relu\"))\n",
    "model.add(Dense(units=2, activation=\"softmax\"))"
   ]
  },
  {
   "cell_type": "markdown",
   "metadata": {},
   "source": [
    "# Compile model"
   ]
  },
  {
   "cell_type": "code",
   "execution_count": 68,
   "metadata": {
    "colab": {},
    "colab_type": "code",
    "id": "BWQgS6b2fWM4"
   },
   "outputs": [
    {
     "name": "stdout",
     "output_type": "stream",
     "text": [
      "80\n",
      "80\n"
     ]
    }
   ],
   "source": [
    "#import keras\n",
    "#opt = keras.optimizers.Adam(learning_rate=0.01) binary_crossentropy &categoricalcross and sparse categorical\n",
    "model.compile(loss='categorical_crossentropy',\n",
    "              optimizer='adam',\n",
    "               metrics=['accuracy'])\n",
    "size_train = train_generator.n//train_generator.batch_size\n",
    "size_validation = validation_generator.n//validation_generator.batch_size\n",
    "print(size_train)\n",
    "print(size_validation)"
   ]
  },
  {
   "cell_type": "markdown",
   "metadata": {},
   "source": [
    "# Training model"
   ]
  },
  {
   "cell_type": "code",
   "execution_count": 72,
   "metadata": {
    "colab": {
     "base_uri": "https://localhost:8080/",
     "height": 1000
    },
    "colab_type": "code",
    "id": "Pb3DBK-4gTm2",
    "outputId": "f545b171-163a-4cae-b281-96a954cb94ec"
   },
   "outputs": [
    {
     "name": "stdout",
     "output_type": "stream",
     "text": [
      "Epoch 1/100\n",
      "WARNING:tensorflow:Can save best model only with val_acc available, skipping.\n",
      "4/4 - 102s - loss: 0.5751 - accuracy: 0.7600 - val_loss: 0.7220 - val_accuracy: 0.4100\n",
      "Epoch 2/100\n",
      "WARNING:tensorflow:Can save best model only with val_acc available, skipping.\n",
      "4/4 - 78s - loss: 0.5715 - accuracy: 0.7150 - val_loss: 0.5634 - val_accuracy: 0.7575\n",
      "Epoch 3/100\n",
      "WARNING:tensorflow:Can save best model only with val_acc available, skipping.\n",
      "4/4 - 90s - loss: 0.7418 - accuracy: 0.7625 - val_loss: 0.5868 - val_accuracy: 0.8725\n",
      "Epoch 4/100\n",
      "WARNING:tensorflow:Can save best model only with val_acc available, skipping.\n",
      "4/4 - 81s - loss: 0.5641 - accuracy: 0.7900 - val_loss: 0.5396 - val_accuracy: 0.7800\n",
      "Epoch 5/100\n",
      "WARNING:tensorflow:Can save best model only with val_acc available, skipping.\n",
      "4/4 - 91s - loss: 0.6309 - accuracy: 0.6300 - val_loss: 0.5732 - val_accuracy: 0.7350\n",
      "Epoch 6/100\n",
      "WARNING:tensorflow:Can save best model only with val_acc available, skipping.\n",
      "4/4 - 74s - loss: 0.5471 - accuracy: 0.7600 - val_loss: 0.5375 - val_accuracy: 0.7475\n",
      "Epoch 7/100\n",
      "WARNING:tensorflow:Can save best model only with val_acc available, skipping.\n",
      "4/4 - 82s - loss: 0.5538 - accuracy: 0.7775 - val_loss: 0.4286 - val_accuracy: 0.7625\n",
      "Epoch 8/100\n",
      "WARNING:tensorflow:Can save best model only with val_acc available, skipping.\n",
      "4/4 - 79s - loss: 0.5596 - accuracy: 0.7800 - val_loss: 0.5127 - val_accuracy: 0.7300\n",
      "Epoch 9/100\n",
      "WARNING:tensorflow:Can save best model only with val_acc available, skipping.\n",
      "4/4 - 82s - loss: 0.6158 - accuracy: 0.6325 - val_loss: 0.5033 - val_accuracy: 0.7775\n",
      "Epoch 10/100\n",
      "WARNING:tensorflow:Can save best model only with val_acc available, skipping.\n",
      "4/4 - 81s - loss: 0.5001 - accuracy: 0.7625 - val_loss: 0.4839 - val_accuracy: 0.7300\n",
      "Epoch 11/100\n",
      "WARNING:tensorflow:Can save best model only with val_acc available, skipping.\n",
      "4/4 - 79s - loss: 0.5185 - accuracy: 0.7950 - val_loss: 0.4959 - val_accuracy: 0.9700\n",
      "Epoch 12/100\n",
      "WARNING:tensorflow:Can save best model only with val_acc available, skipping.\n",
      "4/4 - 85s - loss: 0.5393 - accuracy: 0.8025 - val_loss: 0.3899 - val_accuracy: 0.8650\n",
      "Epoch 13/100\n",
      "WARNING:tensorflow:Can save best model only with val_acc available, skipping.\n",
      "4/4 - 78s - loss: 0.4734 - accuracy: 0.8150 - val_loss: 0.4410 - val_accuracy: 0.7400\n",
      "Epoch 14/100\n",
      "WARNING:tensorflow:Can save best model only with val_acc available, skipping.\n",
      "4/4 - 83s - loss: 0.2033 - accuracy: 0.9050 - val_loss: 0.9437 - val_accuracy: 0.8775\n",
      "Epoch 15/100\n",
      "WARNING:tensorflow:Can save best model only with val_acc available, skipping.\n",
      "4/4 - 77s - loss: 1.7168 - accuracy: 0.6425 - val_loss: 0.5432 - val_accuracy: 0.7475\n",
      "Epoch 16/100\n",
      "WARNING:tensorflow:Can save best model only with val_acc available, skipping.\n",
      "4/4 - 83s - loss: 0.5215 - accuracy: 0.7825 - val_loss: 0.5439 - val_accuracy: 0.7675\n",
      "Epoch 17/100\n",
      "WARNING:tensorflow:Can save best model only with val_acc available, skipping.\n",
      "4/4 - 92s - loss: 0.5888 - accuracy: 0.7250 - val_loss: 0.5661 - val_accuracy: 0.7475\n",
      "Epoch 18/100\n",
      "WARNING:tensorflow:Can save best model only with val_acc available, skipping.\n",
      "4/4 - 81s - loss: 0.5537 - accuracy: 0.7525 - val_loss: 0.5138 - val_accuracy: 0.7650\n",
      "Epoch 19/100\n",
      "WARNING:tensorflow:Can save best model only with val_acc available, skipping.\n",
      "4/4 - 85s - loss: 0.5607 - accuracy: 0.7500 - val_loss: 0.5510 - val_accuracy: 0.7600\n",
      "Epoch 20/100\n",
      "WARNING:tensorflow:Can save best model only with val_acc available, skipping.\n",
      "4/4 - 78s - loss: 0.5941 - accuracy: 0.7225 - val_loss: 0.5517 - val_accuracy: 0.7600\n",
      "Epoch 21/100\n",
      "WARNING:tensorflow:Can save best model only with val_acc available, skipping.\n",
      "4/4 - 78s - loss: 0.5574 - accuracy: 0.7525 - val_loss: 0.5302 - val_accuracy: 0.7575\n",
      "Epoch 22/100\n",
      "WARNING:tensorflow:Can save best model only with val_acc available, skipping.\n",
      "4/4 - 76s - loss: 0.6261 - accuracy: 0.6425 - val_loss: 0.5373 - val_accuracy: 0.7700\n",
      "Epoch 23/100\n",
      "WARNING:tensorflow:Can save best model only with val_acc available, skipping.\n",
      "4/4 - 74s - loss: 0.5108 - accuracy: 0.7600 - val_loss: 0.6326 - val_accuracy: 0.7450\n",
      "Epoch 24/100\n",
      "WARNING:tensorflow:Can save best model only with val_acc available, skipping.\n",
      "4/4 - 71s - loss: 0.5758 - accuracy: 0.7325 - val_loss: 0.5942 - val_accuracy: 0.7175\n",
      "Epoch 25/100\n",
      "WARNING:tensorflow:Can save best model only with val_acc available, skipping.\n",
      "4/4 - 77s - loss: 0.5759 - accuracy: 0.7450 - val_loss: 0.5822 - val_accuracy: 0.7325\n",
      "Epoch 26/100\n",
      "WARNING:tensorflow:Can save best model only with val_acc available, skipping.\n",
      "4/4 - 71s - loss: 0.5688 - accuracy: 0.7400 - val_loss: 0.5666 - val_accuracy: 0.7350\n",
      "Epoch 27/100\n",
      "WARNING:tensorflow:Can save best model only with val_acc available, skipping.\n",
      "4/4 - 75s - loss: 0.5544 - accuracy: 0.7200 - val_loss: 0.5719 - val_accuracy: 0.7400\n",
      "Epoch 28/100\n",
      "WARNING:tensorflow:Can save best model only with val_acc available, skipping.\n",
      "4/4 - 84s - loss: 0.5006 - accuracy: 0.8050 - val_loss: 0.5642 - val_accuracy: 0.7500\n",
      "Epoch 29/100\n",
      "WARNING:tensorflow:Can save best model only with val_acc available, skipping.\n",
      "4/4 - 82s - loss: 0.5774 - accuracy: 0.7400 - val_loss: 0.4606 - val_accuracy: 0.7625\n",
      "Epoch 30/100\n",
      "WARNING:tensorflow:Can save best model only with val_acc available, skipping.\n",
      "4/4 - 83s - loss: 1.6462 - accuracy: 0.6125 - val_loss: 0.5570 - val_accuracy: 0.7575\n",
      "Epoch 31/100\n",
      "WARNING:tensorflow:Can save best model only with val_acc available, skipping.\n",
      "4/4 - 82s - loss: 0.4776 - accuracy: 0.8075 - val_loss: 0.4811 - val_accuracy: 0.7775\n",
      "Epoch 32/100\n",
      "WARNING:tensorflow:Can save best model only with val_acc available, skipping.\n",
      "4/4 - 82s - loss: 0.3466 - accuracy: 0.8175 - val_loss: 0.1450 - val_accuracy: 0.9275\n",
      "Epoch 33/100\n",
      "WARNING:tensorflow:Can save best model only with val_acc available, skipping.\n",
      "4/4 - 64s - loss: 0.2316 - accuracy: 0.8950 - val_loss: 0.3221 - val_accuracy: 0.7725\n",
      "Epoch 34/100\n",
      "WARNING:tensorflow:Can save best model only with val_acc available, skipping.\n",
      "4/4 - 67s - loss: 0.4000 - accuracy: 0.7300 - val_loss: 0.4005 - val_accuracy: 0.7650\n",
      "Epoch 35/100\n",
      "WARNING:tensorflow:Can save best model only with val_acc available, skipping.\n",
      "4/4 - 68s - loss: 0.4047 - accuracy: 0.7500 - val_loss: 0.3137 - val_accuracy: 0.7475\n",
      "Epoch 36/100\n",
      "WARNING:tensorflow:Can save best model only with val_acc available, skipping.\n",
      "4/4 - 63s - loss: 0.2509 - accuracy: 0.7800 - val_loss: 0.2091 - val_accuracy: 0.7325\n",
      "Epoch 37/100\n",
      "WARNING:tensorflow:Can save best model only with val_acc available, skipping.\n",
      "4/4 - 62s - loss: 0.1386 - accuracy: 0.9425 - val_loss: 0.1132 - val_accuracy: 0.9750\n",
      "Epoch 38/100\n",
      "WARNING:tensorflow:Can save best model only with val_acc available, skipping.\n",
      "4/4 - 67s - loss: 0.0975 - accuracy: 0.9725 - val_loss: 0.0359 - val_accuracy: 0.9900\n",
      "Epoch 39/100\n",
      "WARNING:tensorflow:Can save best model only with val_acc available, skipping.\n",
      "4/4 - 62s - loss: 0.1077 - accuracy: 0.9650 - val_loss: 0.0794 - val_accuracy: 0.9825\n",
      "Epoch 40/100\n",
      "WARNING:tensorflow:Can save best model only with val_acc available, skipping.\n",
      "4/4 - 63s - loss: 0.0366 - accuracy: 0.9925 - val_loss: 0.0302 - val_accuracy: 0.9875\n",
      "Epoch 41/100\n",
      "WARNING:tensorflow:Can save best model only with val_acc available, skipping.\n",
      "4/4 - 74s - loss: 0.0732 - accuracy: 0.9900 - val_loss: 0.0356 - val_accuracy: 0.9900\n",
      "Epoch 42/100\n",
      "WARNING:tensorflow:Can save best model only with val_acc available, skipping.\n",
      "4/4 - 66s - loss: 0.0402 - accuracy: 0.9900 - val_loss: 0.0285 - val_accuracy: 0.9975\n",
      "Epoch 43/100\n",
      "WARNING:tensorflow:Can save best model only with val_acc available, skipping.\n",
      "4/4 - 67s - loss: 0.0309 - accuracy: 0.9975 - val_loss: 0.0162 - val_accuracy: 0.9950\n",
      "Epoch 44/100\n",
      "WARNING:tensorflow:Can save best model only with val_acc available, skipping.\n",
      "4/4 - 70s - loss: 0.0112 - accuracy: 0.9950 - val_loss: 0.0023 - val_accuracy: 0.9975\n",
      "Epoch 45/100\n",
      "WARNING:tensorflow:Can save best model only with val_acc available, skipping.\n",
      "4/4 - 63s - loss: 0.0523 - accuracy: 0.9825 - val_loss: 0.0159 - val_accuracy: 0.9950\n",
      "Epoch 46/100\n",
      "WARNING:tensorflow:Can save best model only with val_acc available, skipping.\n",
      "4/4 - 71s - loss: 0.0333 - accuracy: 0.9825 - val_loss: 0.0160 - val_accuracy: 0.9900\n",
      "Epoch 47/100\n",
      "WARNING:tensorflow:Can save best model only with val_acc available, skipping.\n"
     ]
    },
    {
     "name": "stdout",
     "output_type": "stream",
     "text": [
      "4/4 - 67s - loss: 0.0246 - accuracy: 0.9900 - val_loss: 0.0942 - val_accuracy: 0.9625\n",
      "Epoch 48/100\n",
      "WARNING:tensorflow:Can save best model only with val_acc available, skipping.\n",
      "4/4 - 82s - loss: 0.1088 - accuracy: 0.9600 - val_loss: 0.0924 - val_accuracy: 0.9925\n",
      "Epoch 49/100\n",
      "WARNING:tensorflow:Can save best model only with val_acc available, skipping.\n",
      "4/4 - 63s - loss: 0.0899 - accuracy: 0.9925 - val_loss: 0.1391 - val_accuracy: 0.9875\n",
      "Epoch 50/100\n",
      "WARNING:tensorflow:Can save best model only with val_acc available, skipping.\n",
      "4/4 - 67s - loss: 0.0871 - accuracy: 0.9750 - val_loss: 0.0640 - val_accuracy: 0.9800\n",
      "Epoch 51/100\n",
      "WARNING:tensorflow:Can save best model only with val_acc available, skipping.\n",
      "4/4 - 70s - loss: 0.1133 - accuracy: 0.9675 - val_loss: 0.0919 - val_accuracy: 0.9850\n",
      "Epoch 52/100\n",
      "WARNING:tensorflow:Can save best model only with val_acc available, skipping.\n",
      "4/4 - 64s - loss: 0.0757 - accuracy: 0.9925 - val_loss: 0.1163 - val_accuracy: 0.9900\n",
      "Epoch 53/100\n",
      "WARNING:tensorflow:Can save best model only with val_acc available, skipping.\n",
      "4/4 - 64s - loss: 0.0618 - accuracy: 0.9925 - val_loss: 0.0417 - val_accuracy: 0.9900\n",
      "Epoch 54/100\n",
      "WARNING:tensorflow:Can save best model only with val_acc available, skipping.\n",
      "4/4 - 72s - loss: 0.2154 - accuracy: 0.9750 - val_loss: 0.0225 - val_accuracy: 0.9925\n",
      "Epoch 55/100\n",
      "WARNING:tensorflow:Can save best model only with val_acc available, skipping.\n",
      "4/4 - 71s - loss: 0.0726 - accuracy: 0.9775 - val_loss: 0.1226 - val_accuracy: 0.9775\n",
      "Epoch 56/100\n",
      "WARNING:tensorflow:Can save best model only with val_acc available, skipping.\n",
      "4/4 - 68s - loss: 0.1129 - accuracy: 0.9900 - val_loss: 0.1005 - val_accuracy: 0.9950\n",
      "Epoch 57/100\n",
      "WARNING:tensorflow:Can save best model only with val_acc available, skipping.\n",
      "4/4 - 71s - loss: 0.0886 - accuracy: 0.9925 - val_loss: 0.0401 - val_accuracy: 0.9900\n",
      "Epoch 58/100\n",
      "WARNING:tensorflow:Can save best model only with val_acc available, skipping.\n",
      "4/4 - 61s - loss: 0.0299 - accuracy: 0.9900 - val_loss: 0.0483 - val_accuracy: 0.9900\n",
      "Epoch 59/100\n",
      "WARNING:tensorflow:Can save best model only with val_acc available, skipping.\n",
      "4/4 - 66s - loss: 0.0850 - accuracy: 0.9850 - val_loss: 0.0049 - val_accuracy: 0.9975\n",
      "Epoch 60/100\n",
      "WARNING:tensorflow:Can save best model only with val_acc available, skipping.\n",
      "4/4 - 62s - loss: 0.0136 - accuracy: 0.9950 - val_loss: 0.0331 - val_accuracy: 0.9900\n",
      "Epoch 61/100\n",
      "WARNING:tensorflow:Can save best model only with val_acc available, skipping.\n",
      "4/4 - 65s - loss: 0.0108 - accuracy: 0.9975 - val_loss: 0.0346 - val_accuracy: 0.9925\n",
      "Epoch 62/100\n",
      "WARNING:tensorflow:Can save best model only with val_acc available, skipping.\n",
      "4/4 - 67s - loss: 0.0123 - accuracy: 0.9975 - val_loss: 0.0166 - val_accuracy: 0.9975\n",
      "Epoch 63/100\n",
      "WARNING:tensorflow:Can save best model only with val_acc available, skipping.\n",
      "4/4 - 63s - loss: 0.0085 - accuracy: 0.9975 - val_loss: 0.0173 - val_accuracy: 0.9950\n",
      "Epoch 64/100\n",
      "WARNING:tensorflow:Can save best model only with val_acc available, skipping.\n",
      "4/4 - 64s - loss: 0.0534 - accuracy: 0.9900 - val_loss: 0.0344 - val_accuracy: 0.9925\n",
      "Epoch 65/100\n",
      "WARNING:tensorflow:Can save best model only with val_acc available, skipping.\n",
      "4/4 - 67s - loss: 0.1562 - accuracy: 0.9650 - val_loss: 0.0739 - val_accuracy: 0.9650\n",
      "Epoch 66/100\n",
      "WARNING:tensorflow:Can save best model only with val_acc available, skipping.\n",
      "4/4 - 64s - loss: 0.0623 - accuracy: 0.9925 - val_loss: 0.1097 - val_accuracy: 0.9900\n",
      "Epoch 67/100\n",
      "WARNING:tensorflow:Can save best model only with val_acc available, skipping.\n",
      "4/4 - 63s - loss: 0.0899 - accuracy: 0.9825 - val_loss: 0.0628 - val_accuracy: 0.9750\n",
      "Epoch 68/100\n",
      "WARNING:tensorflow:Can save best model only with val_acc available, skipping.\n",
      "4/4 - 68s - loss: 0.0397 - accuracy: 0.9925 - val_loss: 0.0536 - val_accuracy: 0.9875\n",
      "Epoch 69/100\n",
      "WARNING:tensorflow:Can save best model only with val_acc available, skipping.\n",
      "4/4 - 63s - loss: 0.0665 - accuracy: 0.9800 - val_loss: 0.0327 - val_accuracy: 0.9950\n",
      "Epoch 70/100\n",
      "WARNING:tensorflow:Can save best model only with val_acc available, skipping.\n",
      "4/4 - 63s - loss: 0.0419 - accuracy: 0.9875 - val_loss: 0.0120 - val_accuracy: 0.9950\n",
      "Epoch 71/100\n",
      "WARNING:tensorflow:Can save best model only with val_acc available, skipping.\n",
      "4/4 - 68s - loss: 0.0635 - accuracy: 0.9900 - val_loss: 0.0291 - val_accuracy: 0.9875\n",
      "Epoch 72/100\n",
      "WARNING:tensorflow:Can save best model only with val_acc available, skipping.\n",
      "4/4 - 64s - loss: 0.0741 - accuracy: 0.9800 - val_loss: 0.2729 - val_accuracy: 0.9225\n",
      "Epoch 73/100\n",
      "WARNING:tensorflow:Can save best model only with val_acc available, skipping.\n",
      "4/4 - 63s - loss: 0.1570 - accuracy: 0.9575 - val_loss: 0.0996 - val_accuracy: 0.9875\n",
      "Epoch 74/100\n",
      "WARNING:tensorflow:Can save best model only with val_acc available, skipping.\n",
      "4/4 - 67s - loss: 0.1028 - accuracy: 0.9775 - val_loss: 0.0677 - val_accuracy: 0.9875\n",
      "Epoch 75/100\n",
      "WARNING:tensorflow:Can save best model only with val_acc available, skipping.\n",
      "4/4 - 64s - loss: 0.0877 - accuracy: 0.9775 - val_loss: 0.1142 - val_accuracy: 0.9575\n",
      "Epoch 76/100\n",
      "WARNING:tensorflow:Can save best model only with val_acc available, skipping.\n",
      "4/4 - 67s - loss: 0.0708 - accuracy: 0.9825 - val_loss: 0.0735 - val_accuracy: 0.9850\n",
      "Epoch 77/100\n",
      "WARNING:tensorflow:Can save best model only with val_acc available, skipping.\n",
      "4/4 - 66s - loss: 0.0941 - accuracy: 0.9700 - val_loss: 0.0448 - val_accuracy: 0.9875\n",
      "Epoch 78/100\n",
      "WARNING:tensorflow:Can save best model only with val_acc available, skipping.\n",
      "4/4 - 66s - loss: 0.0367 - accuracy: 0.9925 - val_loss: 0.0998 - val_accuracy: 0.9750\n",
      "Epoch 79/100\n",
      "WARNING:tensorflow:Can save best model only with val_acc available, skipping.\n",
      "4/4 - 61s - loss: 0.0693 - accuracy: 0.9850 - val_loss: 0.0707 - val_accuracy: 0.9875\n",
      "Epoch 80/100\n",
      "WARNING:tensorflow:Can save best model only with val_acc available, skipping.\n",
      "4/4 - 65s - loss: 0.0687 - accuracy: 0.9825 - val_loss: 0.0786 - val_accuracy: 0.9750\n",
      "Epoch 81/100\n",
      "WARNING:tensorflow:Can save best model only with val_acc available, skipping.\n",
      "4/4 - 64s - loss: 0.1023 - accuracy: 0.9700 - val_loss: 0.0343 - val_accuracy: 0.9900\n",
      "Epoch 82/100\n",
      "WARNING:tensorflow:Can save best model only with val_acc available, skipping.\n",
      "4/4 - 61s - loss: 0.0135 - accuracy: 1.0000 - val_loss: 0.0170 - val_accuracy: 0.9900\n",
      "Epoch 83/100\n",
      "WARNING:tensorflow:Can save best model only with val_acc available, skipping.\n",
      "4/4 - 66s - loss: 0.0569 - accuracy: 0.9750 - val_loss: 0.0254 - val_accuracy: 0.9900\n",
      "Epoch 84/100\n",
      "WARNING:tensorflow:Can save best model only with val_acc available, skipping.\n",
      "4/4 - 66s - loss: 0.0035 - accuracy: 1.0000 - val_loss: 0.1555 - val_accuracy: 0.9825\n",
      "Epoch 85/100\n",
      "WARNING:tensorflow:Can save best model only with val_acc available, skipping.\n",
      "4/4 - 64s - loss: 0.0541 - accuracy: 0.9825 - val_loss: 0.0790 - val_accuracy: 0.9650\n",
      "Epoch 86/100\n",
      "WARNING:tensorflow:Can save best model only with val_acc available, skipping.\n",
      "4/4 - 65s - loss: 0.1166 - accuracy: 0.9425 - val_loss: 0.0464 - val_accuracy: 0.9950\n",
      "Epoch 87/100\n",
      "WARNING:tensorflow:Can save best model only with val_acc available, skipping.\n",
      "4/4 - 73s - loss: 0.0470 - accuracy: 0.9950 - val_loss: 0.0633 - val_accuracy: 0.9800\n",
      "Epoch 88/100\n",
      "WARNING:tensorflow:Can save best model only with val_acc available, skipping.\n",
      "4/4 - 65s - loss: 0.0268 - accuracy: 0.9900 - val_loss: 0.0279 - val_accuracy: 0.9950\n",
      "Epoch 89/100\n",
      "WARNING:tensorflow:Can save best model only with val_acc available, skipping.\n",
      "4/4 - 74s - loss: 0.0287 - accuracy: 0.9925 - val_loss: 0.0783 - val_accuracy: 0.9900\n",
      "Epoch 90/100\n",
      "WARNING:tensorflow:Can save best model only with val_acc available, skipping.\n",
      "4/4 - 68s - loss: 0.0265 - accuracy: 0.9900 - val_loss: 0.0172 - val_accuracy: 0.9925\n",
      "Epoch 91/100\n",
      "WARNING:tensorflow:Can save best model only with val_acc available, skipping.\n",
      "4/4 - 82s - loss: 0.0310 - accuracy: 0.9900 - val_loss: 0.0106 - val_accuracy: 0.9925\n",
      "Epoch 92/100\n",
      "WARNING:tensorflow:Can save best model only with val_acc available, skipping.\n",
      "4/4 - 72s - loss: 0.0127 - accuracy: 0.9950 - val_loss: 0.0176 - val_accuracy: 0.9900\n",
      "Epoch 93/100\n",
      "WARNING:tensorflow:Can save best model only with val_acc available, skipping.\n",
      "4/4 - 81s - loss: 0.0298 - accuracy: 0.9875 - val_loss: 0.0323 - val_accuracy: 0.9950\n"
     ]
    },
    {
     "name": "stdout",
     "output_type": "stream",
     "text": [
      "Epoch 94/100\n",
      "WARNING:tensorflow:Can save best model only with val_acc available, skipping.\n",
      "4/4 - 65s - loss: 0.0252 - accuracy: 0.9975 - val_loss: 0.0295 - val_accuracy: 0.9850\n",
      "Epoch 95/100\n",
      "WARNING:tensorflow:Can save best model only with val_acc available, skipping.\n",
      "4/4 - 70s - loss: 0.0416 - accuracy: 0.9775 - val_loss: 0.0072 - val_accuracy: 0.9975\n",
      "Epoch 96/100\n",
      "WARNING:tensorflow:Can save best model only with val_acc available, skipping.\n",
      "4/4 - 63s - loss: 0.0153 - accuracy: 0.9950 - val_loss: 0.0770 - val_accuracy: 0.9750\n",
      "Epoch 97/100\n",
      "WARNING:tensorflow:Can save best model only with val_acc available, skipping.\n",
      "4/4 - 62s - loss: 0.0959 - accuracy: 0.9725 - val_loss: 0.0298 - val_accuracy: 0.9975\n",
      "Epoch 98/100\n",
      "WARNING:tensorflow:Can save best model only with val_acc available, skipping.\n",
      "4/4 - 67s - loss: 0.0382 - accuracy: 0.9925 - val_loss: 0.0447 - val_accuracy: 0.9950\n",
      "Epoch 99/100\n",
      "WARNING:tensorflow:Can save best model only with val_acc available, skipping.\n",
      "4/4 - 63s - loss: 0.0232 - accuracy: 0.9975 - val_loss: 0.0117 - val_accuracy: 0.9975\n",
      "Epoch 100/100\n",
      "WARNING:tensorflow:Can save best model only with val_acc available, skipping.\n",
      "4/4 - 61s - loss: 0.0073 - accuracy: 0.9975 - val_loss: 0.0134 - val_accuracy: 0.9950\n"
     ]
    }
   ],
   "source": [
    "checkpoint_filepath = 'E:/Learn/'\n",
    "model_checkpoint_callback = tf.keras.callbacks.ModelCheckpoint(\n",
    "    filepath=checkpoint_filepath,\n",
    "    save_weights_only=True,\n",
    "    monitor='val_acc',\n",
    "    mode='max',\n",
    "    save_best_only=True)\n",
    "history = model.fit(\n",
    "    train_generator,\n",
    "    steps_per_epoch=4,  # berapa batch yang akan dieksekusi per epoch\n",
    "    epochs=100,\n",
    "    validation_data= validation_generator, # menampilkan akurasi pengujian data validasi\n",
    "    validation_steps=4,  # batch yang akan dieksekusi pada setiap epoch\n",
    "    verbose=2,\n",
    "    callbacks=[model_checkpoint_callback])\n"
   ]
  },
  {
   "cell_type": "markdown",
   "metadata": {},
   "source": [
    "# Plot proses training (akurasi dan ralat)"
   ]
  },
  {
   "cell_type": "code",
   "execution_count": 73,
   "metadata": {},
   "outputs": [
    {
     "data": {
      "image/png": "[encoded data removed]",
      "text/plain": [
       "<Figure size 576x216 with 1 Axes>"
      ]
     },
     "metadata": {
      "needs_background": "light"
     },
     "output_type": "display_data"
    }
   ],
   "source": [
    "import pandas as pd\n",
    "import matplotlib.pyplot as plt\n",
    "pd.DataFrame(history.history).plot(figsize=(8, 3))\n",
    "\n",
    "plt.grid(True)\n",
    "plt.gca().set_ylim(0, 2) \n",
    "plt.show()"
   ]
  },
  {
   "cell_type": "markdown",
   "metadata": {},
   "source": [
    "# Uji Coba Model"
   ]
  },
  {
   "cell_type": "code",
   "execution_count": 81,
   "metadata": {
    "colab": {
     "base_uri": "https://localhost:8080/",
     "height": 429,
     "resources": {
      "http://localhost:8080/nbextensions/google.colab/files.js": {
       "data": "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",
       "headers": [
        [
         "content-type",
         "application/javascript"
        ]
       ],
       "ok": true,
       "status": 200,
       "status_text": ""
      }
     }
    },
    "colab_type": "code",
    "id": "cgYycYsLwC3W",
    "outputId": "e46b95e0-96f1-4f82-b336-a801526a5518"
   },
   "outputs": [
    {
     "name": "stdout",
     "output_type": "stream",
     "text": [
      "[[0. 1.]]\n",
      "Sehat :  0.0 %\n",
      "Tidak sehat :  100.0 %\n",
      "Tanaman tidak sehat\n"
     ]
    },
    {
     "data": {
      "image/png": "[encoded data removed]",
      "text/plain": [
       "<Figure size 432x288 with 1 Axes>"
      ]
     },
     "metadata": {
      "needs_background": "light"
     },
     "output_type": "display_data"
    }
   ],
   "source": [
    "import numpy as np\n",
    "from keras.preprocessing import image\n",
    "import matplotlib.pyplot as plt\n",
    "import matplotlib.image as mpimg\n",
    "import matplotlib.pyplot as plt\n",
    "import matplotlib.image as mpimg\n",
    "import PIL\n",
    "%matplotlib inline\n",
    "prediksi = tf.keras.models.load_model('E:/Learn/model2(vgg).h5')\n",
    "#uploaded = files.upload()\n",
    "#file = 'infeksi bakteri.jpg'\n",
    "#file = 'healthy leaf.png'\n",
    "file = 'Brown_spot.jpg' \n",
    "#file = 'Leaf_smut.JPG'\n",
    "#file = 'healthy leaf 3.jpg'\n",
    "#file = 'healthy leaf 2.1.jpg'\n",
    "for fn in file:\n",
    " \n",
    "  # predicting images\n",
    "  path = fn\n",
    "  img = image.load_img(file, target_size=(64,64))\n",
    "  #imgplot = plt.imshow(img)\n",
    "  x = image.img_to_array(img)\n",
    "  x = np.expand_dims(x, axis=0)\n",
    " \n",
    "  images = np.vstack([x])\n",
    "  classes = prediksi.predict(images, batch_size=5)\n",
    "gambar = image.load_img(file)\n",
    "plt.imshow(gambar)\n",
    "print(classes)\n",
    "print('Sehat : ', classes[0,0]*100, '%')\n",
    "print('Tidak sehat : ', classes[0,1]*100, '%')\n",
    "#print(\"Sehat : \", classes[0,2]*100, '%')\n",
    "#print(\"Becak daun : \", classes[0,3]*100, '%')\n",
    "if classes[0, 0] == np.max(classes):\n",
    "  print('Tanaman sehat')\n",
    "#elif classes[0, 1] == np.max(classes) and classes[0, 1]:\n",
    " # print('Tanaman sehat')\n",
    "elif classes[0, 1] == np.max(classes):\n",
    "  print('Tanaman tidak sehat')\n",
    "#elif classes[0, 2] == np.max(classes):\n",
    " # print(\"Sehat\")\n",
    "#elif classes[0, 3] == np.max(classes):\n",
    " # print(\"Bercak daun\")"
   ]
  },
  {
   "cell_type": "code",
   "execution_count": 75,
   "metadata": {},
   "outputs": [
    {
     "name": "stdout",
     "output_type": "stream",
     "text": [
      "Model: \"sequential_8\"\n",
      "_________________________________________________________________\n",
      "Layer (type)                 Output Shape              Param #   \n",
      "=================================================================\n",
      "conv2d_26 (Conv2D)           (None, 64, 64, 64)        1792      \n",
      "_________________________________________________________________\n",
      "conv2d_27 (Conv2D)           (None, 64, 64, 64)        36928     \n",
      "_________________________________________________________________\n",
      "max_pooling2d_14 (MaxPooling (None, 32, 32, 64)        0         \n",
      "_________________________________________________________________\n",
      "conv2d_28 (Conv2D)           (None, 32, 32, 128)       73856     \n",
      "_________________________________________________________________\n",
      "conv2d_29 (Conv2D)           (None, 32, 32, 128)       147584    \n",
      "_________________________________________________________________\n",
      "max_pooling2d_15 (MaxPooling (None, 16, 16, 128)       0         \n",
      "_________________________________________________________________\n",
      "conv2d_30 (Conv2D)           (None, 16, 16, 256)       295168    \n",
      "_________________________________________________________________\n",
      "conv2d_31 (Conv2D)           (None, 16, 16, 256)       590080    \n",
      "_________________________________________________________________\n",
      "conv2d_32 (Conv2D)           (None, 16, 16, 256)       590080    \n",
      "_________________________________________________________________\n",
      "max_pooling2d_16 (MaxPooling (None, 8, 8, 256)         0         \n",
      "_________________________________________________________________\n",
      "conv2d_33 (Conv2D)           (None, 8, 8, 512)         1180160   \n",
      "_________________________________________________________________\n",
      "conv2d_34 (Conv2D)           (None, 8, 8, 512)         2359808   \n",
      "_________________________________________________________________\n",
      "conv2d_35 (Conv2D)           (None, 8, 8, 512)         2359808   \n",
      "_________________________________________________________________\n",
      "max_pooling2d_17 (MaxPooling (None, 4, 4, 512)         0         \n",
      "_________________________________________________________________\n",
      "conv2d_36 (Conv2D)           (None, 4, 4, 512)         2359808   \n",
      "_________________________________________________________________\n",
      "conv2d_37 (Conv2D)           (None, 4, 4, 512)         2359808   \n",
      "_________________________________________________________________\n",
      "conv2d_38 (Conv2D)           (None, 4, 4, 512)         2359808   \n",
      "_________________________________________________________________\n",
      "max_pooling2d_18 (MaxPooling (None, 2, 2, 512)         0         \n",
      "_________________________________________________________________\n",
      "flatten_1 (Flatten)          (None, 2048)              0         \n",
      "_________________________________________________________________\n",
      "dense_2 (Dense)              (None, 4096)              8392704   \n",
      "_________________________________________________________________\n",
      "dense_3 (Dense)              (None, 4096)              16781312  \n",
      "_________________________________________________________________\n",
      "dense_4 (Dense)              (None, 2)                 8194      \n",
      "=================================================================\n",
      "Total params: 39,896,898\n",
      "Trainable params: 39,896,898\n",
      "Non-trainable params: 0\n",
      "_________________________________________________________________\n"
     ]
    }
   ],
   "source": [
    "model.summary()"
   ]
  },
  {
   "cell_type": "code",
   "execution_count": 74,
   "metadata": {},
   "outputs": [],
   "source": [
    "model.save('E:/Learn/model2(vgg).h5')"
   ]
  },
  {
   "cell_type": "code",
   "execution_count": 44,
   "metadata": {},
   "outputs": [],
   "source": [
    "# from keras.utils import plot_model\n",
    "# from keras.utils.vis_utils import plot_model\n",
    "# import graphviz\n",
    "# import keras\n",
    "# import pydot\n",
    "# import os\n",
    "# import pydotplus\n",
    "# from keras.utils.vis_utils import model_to_dot\n",
    "# keras.utils.vis_utils.pydot = pydot\n",
    "# os.environ[\"PATH\"] += os.pathsep + 'C:/anaconda3/Lib/site-packages/graphviz-2.38/bin'\n",
    "# plot_model('E:/Learn/model1.h5', to_file='E:/Learn/vismodel1.png', show_shapes=True, show_layer_names=True)"
   ]
  }
 ],
 "metadata": {
  "accelerator": "GPU",
  "colab": {
   "collapsed_sections": [],
   "name": "COMPUTER VISION",
   "provenance": []
  },
  "kernelspec": {
   "display_name": "Python 3",
   "language": "python",
   "name": "python3"
  },
  "language_info": {
   "codemirror_mode": {
    "name": "ipython",
    "version": 3
   },
   "file_extension": ".py",
   "mimetype": "text/x-python",
   "name": "python",
   "nbconvert_exporter": "python",
   "pygments_lexer": "ipython3",
   "version": "3.7.4"
  }
 },
 "nbformat": 4,
 "nbformat_minor": 1
}
